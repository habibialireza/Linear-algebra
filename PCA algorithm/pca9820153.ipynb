{
 "cells": [
  {
   "cell_type": "code",
   "execution_count": 1,
   "metadata": {
    "id": "vN-Ryg446J28"
   },
   "outputs": [],
   "source": [
    "import matplotlib.pyplot as plt\n",
    "from mpl_toolkits.mplot3d import axes3d\n",
    "\n",
    "from IPython.display import clear_output\n",
    "\n",
    "import pandas as pd\n",
    "import numpy as np\n",
    "classes = {0:'T-shirt/top',\n",
    "           1:'Trouser', \n",
    "           2: 'Pullover', \n",
    "           3: 'Dress', \n",
    "           4: 'Coat',\n",
    "           5: 'Sandal',\n",
    "           6: 'Shirt',\n",
    "           7: 'Sneaker',\n",
    "           8: 'Bag', \n",
    "           9: 'Ankle Boot'}"
   ]
  },
  {
   "cell_type": "code",
   "execution_count": 2,
   "metadata": {
    "id": "Q6ntYlmzZSj-"
   },
   "outputs": [],
   "source": [
    "selected_labels = [0, 1, 5, 8, 9]\n",
    "\n",
    "data = pd.read_csv('fashion_MNIST/fashion-mnist_train.csv')\n",
    "data = data.loc[data['label'].isin(selected_labels)].reset_index(drop=True)\n",
    "\n",
    "labels = data.pop('label')\n",
    "index = 0\n",
    "data = data.values\n",
    "images = np.reshape(data, (-1, 28, 28))"
   ]
  },
  {
   "cell_type": "code",
   "execution_count": 3,
   "metadata": {
    "colab": {
     "base_uri": "https://localhost:8080/",
     "height": 264
    },
    "id": "g5tq50hY9VDC",
    "outputId": "2b850ebc-df20-4460-f4da-3a014e8815c9"
   },
   "outputs": [
    {
     "data": {
      "image/png": "[encoded data removed]",
      "text/plain": [
       "<Figure size 432x288 with 1 Axes>"
      ]
     },
     "metadata": {
      "needs_background": "light"
     },
     "output_type": "display_data"
    }
   ],
   "source": [
    "import matplotlib.pyplot as plt\n",
    "plt.imshow(images[index].squeeze(), cmap = 'gray')\n",
    "plt.title(classes[labels[index]])\n",
    "plt.axis('off')\n",
    "plt.show()\n",
    "index += 1"
   ]
  },
  {
   "cell_type": "markdown",
   "metadata": {
    "id": "nKIUXlHr6Y2y"
   },
   "source": [
    "# PCA step by step\n",
    "Here is the short summary of the required steps:\n",
    "* **Scale the data** — we don’t want some feature to be voted as “more important” due to scale differences. 10m = 10000mm, but the algorithm isn’t aware of meters and millimeters\n",
    "* **Calculate covariance matrix** — square matrix giving the covariances between each pair of elements of a random vector\n",
    "* **Eigen Decomposition**\n"
   ]
  },
  {
   "cell_type": "markdown",
   "metadata": {
    "id": "n8RcNVgJ-CYH"
   },
   "source": [
    "# Scale the Data:\n",
    "Standardize features. to do so, use this formula: $$z = \\frac{(x - \\mu)}{\\sigma}$$\n",
    "where $\\mu$ is mean and $\\sigma$ is standard deviation."
   ]
  },
  {
   "cell_type": "code",
   "execution_count": 4,
   "metadata": {},
   "outputs": [
    {
     "data": {
      "text/plain": [
       "(30000, 28, 28)"
      ]
     },
     "execution_count": 4,
     "metadata": {},
     "output_type": "execute_result"
    }
   ],
   "source": [
    "#images.type\n",
    "#np.mean(images,axis=1).shape\n",
    "images.shape\n",
    "#np.mean(images,axis=0).shape\n"
   ]
  },
  {
   "cell_type": "code",
   "execution_count": 13,
   "metadata": {
    "id": "nzK7sJOO994k"
   },
   "outputs": [],
   "source": [
    "# Code Here\n",
    "images=images.reshape(30000,-1)\n",
    "mean_ = np.mean(images,axis=0)\n",
    "std_ = np.std(images, axis = 0)\n",
    "X_scaled = (images - mean_) / std_"
   ]
  },
  {
   "cell_type": "code",
   "execution_count": 14,
   "metadata": {},
   "outputs": [
    {
     "data": {
      "text/plain": [
       "(30000, 784)"
      ]
     },
     "execution_count": 14,
     "metadata": {},
     "output_type": "execute_result"
    }
   ],
   "source": [
    "X_scaled.shape"
   ]
  },
  {
   "cell_type": "markdown",
   "metadata": {
    "id": "kuxGHdSxPqqB"
   },
   "source": [
    "# Calculate Covariance Matrix:\n",
    "Let’s take a step back here and understand the difference between variance and covariance. Variance reports variation of a single random variable — let’s say the weight of a person, and covariance reports how much two random variables vary — like weight and height of a person.\n",
    "On the diagonal of the covariance matrix we have variances, and other elements are the covariances.\n",
    "\n",
    "For further information about covariance visit [wikipedia](https://en.wikipedia.org/wiki/Covariance)."
   ]
  },
  {
   "cell_type": "code",
   "execution_count": 6,
   "metadata": {},
   "outputs": [],
   "source": [
    "#X_scaled.shape\n",
    "#X_scaled.shape[0]\n",
    "\n",
    "    \n"
   ]
  },
  {
   "cell_type": "code",
   "execution_count": 17,
   "metadata": {
    "colab": {
     "base_uri": "https://localhost:8080/"
    },
    "id": "vUr1Jk68-Mwc",
    "outputId": "ecb39877-124a-4a6a-a5b1-5747f6d76559"
   },
   "outputs": [
    {
     "data": {
      "text/plain": [
       "array([[1.        , 0.10344529, 0.02532367, 0.02635456, 0.02597683],\n",
       "       [0.10344529, 1.        , 0.6794662 , 0.16289345, 0.0536698 ],\n",
       "       [0.02532367, 0.6794662 , 1.        , 0.29367225, 0.03539502],\n",
       "       [0.02635456, 0.16289345, 0.29367225, 1.        , 0.55368463],\n",
       "       [0.02597683, 0.0536698 , 0.03539502, 0.55368463, 1.        ]])"
      ]
     },
     "execution_count": 17,
     "metadata": {},
     "output_type": "execute_result"
    }
   ],
   "source": [
    "# CODE Here\n",
    "# using built-in functions like np.cov is NOT allowed\n",
    "\n",
    "cov_matrix = X_scaled.T @ X_scaled / X_scaled.shape[0]\n",
    "\n",
    "##\n",
    "\n",
    "assert cov_matrix.shape == (784,784) , \"covariance matrix shape should be 784 * 784\"\n",
    "\n",
    "cov_matrix[0:5, 0:5]"
   ]
  },
  {
   "cell_type": "code",
   "execution_count": 18,
   "metadata": {},
   "outputs": [
    {
     "data": {
      "text/plain": [
       "(784, 784)"
      ]
     },
     "execution_count": 18,
     "metadata": {},
     "output_type": "execute_result"
    }
   ],
   "source": [
    "cov_matrix.shape"
   ]
  },
  {
   "cell_type": "markdown",
   "metadata": {
    "id": "AE5beK2BQhdo"
   },
   "source": [
    "As you can see, the diagonal elements are identical, and the matrix is symmetrical. Up next, eigendecomposition."
   ]
  },
  {
   "cell_type": "markdown",
   "metadata": {
    "id": "rSf2ECtuQt1G"
   },
   "source": [
    "# Eigendecomposition\n",
    "`Eigendecomposition is a process that decomposes a square matrix into eigenvectors and eigenvalues.` <font color='red'>Eigenvectors are simple unit vectors</font>, and <font color='green'>eigenvalues are coefficients which give the magnitude to the eigenvectors. </font>\n",
    "\n",
    "We know so far that our `covariance matrix is symmetrical.` As it turns out, `eigenvectors of symmetric matrices are orthogonal.` For PCA this means that we have the first principal component which explains most of the variance. Orthogonal to that is the second principal component, which explains most of the remaining variance. This is repeated for N number of principal components, where N equals to number of original features.\n",
    "\n",
    "And this turns out to be neat for us — principal components are sorted by percentage of variance explained, as we can decide how many should we keep. For example, if we have 100 features originally, but the first 3 principal components explain 95% of the variance, then it makes sense to keep only these 3 for visualizations and model training.\n"
   ]
  },
  {
   "cell_type": "code",
   "execution_count": 19,
   "metadata": {
    "colab": {
     "base_uri": "https://localhost:8080/"
    },
    "id": "T7UUzou8O7wi",
    "outputId": "f070bd41-20aa-486e-de18-92d07db9a932"
   },
   "outputs": [
    {
     "name": "stdout",
     "output_type": "stream",
     "text": [
      "First 10 eigenvalues: [153.06089638 134.58065215  53.62445879  45.8337029   35.94673788\n",
      "  27.17131546  16.1684106   11.26287602   9.89927745   8.76852687]\n",
      "\n",
      "\n",
      "Last 10 eigenvalues: [0.03232715 0.03207408 0.03218722 0.0318583  0.03047099 0.02958245\n",
      " 0.02955576 0.03128637 0.03836767 0.03546275]\n"
     ]
    }
   ],
   "source": [
    "# Code Here\n",
    "# Implementing the functions to return eigen vectors and values are optional and have extra score.\n",
    "eig_values,_ = np.linalg.eig(cov_matrix)\n",
    "_,eig_vectors = np.linalg.eig(cov_matrix)\n",
    "\n",
    "##\n",
    "\n",
    "\n",
    "print(f'First 10 eigenvalues: {eig_values[:10]}')\n",
    "print(f'\\n\\nLast 10 eigenvalues: {eig_values[-10:]}')"
   ]
  },
  {
   "cell_type": "code",
   "execution_count": 20,
   "metadata": {
    "colab": {
     "base_uri": "https://localhost:8080/",
     "height": 558
    },
    "id": "R8gds64QRU-A",
    "outputId": "f590f1c0-3d42-4a64-d44d-48e612a655bc",
    "scrolled": true
   },
   "outputs": [
    {
     "data": {
      "image/png": "[encoded data removed]",
      "text/plain": [
       "<Figure size 360x216 with 1 Axes>"
      ]
     },
     "metadata": {
      "needs_background": "light"
     },
     "output_type": "display_data"
    }
   ],
   "source": [
    "plt.figure(figsize=(5,3))\n",
    "plt.stem(eig_values[:200])\n",
    "plt.xlabel('Eigen value index')\n",
    "plt.ylabel('Eigen value')\n",
    "plt.show()"
   ]
  },
  {
   "cell_type": "code",
   "execution_count": 21,
   "metadata": {
    "colab": {
     "base_uri": "https://localhost:8080/"
    },
    "id": "VXebdStRRWm_",
    "outputId": "eec29cbe-e37a-4c97-90d0-b8184d9eb05c"
   },
   "outputs": [
    {
     "name": "stdout",
     "output_type": "stream",
     "text": [
      "Eigenvectors upto 1 expresses 19.5230735181995 % variance\n",
      "Eigenvectors upto 2 expresses 36.68897302741584 % variance\n",
      "Eigenvectors upto 3 expresses 43.528827465541504 % variance\n",
      "Eigenvectors upto 4 expresses 49.37496303896837 % variance\n",
      "Eigenvectors upto 5 expresses 53.96000613539754 % variance\n",
      "Eigenvectors upto 6 expresses 57.42573514793006 % variance\n",
      "Eigenvectors upto 7 expresses 59.4880324177039 % variance\n",
      "Eigenvectors upto 8 expresses 60.92462374642832 % variance\n",
      "Eigenvectors upto 9 expresses 62.187286686003844 % variance\n",
      "Eigenvectors upto 10 expresses 63.305721235345835 % variance\n",
      "Eigenvectors upto 11 expresses 64.34015921745102 % variance\n",
      "Eigenvectors upto 12 expresses 65.30345377006299 % variance\n",
      "Eigenvectors upto 13 expresses 66.22157672421169 % variance\n",
      "Eigenvectors upto 14 expresses 66.9953511501992 % variance\n",
      "Eigenvectors upto 15 expresses 67.74056613252274 % variance\n",
      "Eigenvectors upto 16 expresses 68.43816735826337 % variance\n",
      "Eigenvectors upto 17 expresses 69.06144815928644 % variance\n",
      "Eigenvectors upto 18 expresses 69.65721522913014 % variance\n",
      "Eigenvectors upto 19 expresses 70.23263378314851 % variance\n",
      "Eigenvectors upto 20 expresses 70.7740953969297 % variance\n",
      "Eigenvectors upto 21 expresses 71.28998391299854 % variance\n",
      "Eigenvectors upto 22 expresses 71.77867360249292 % variance\n",
      "Eigenvectors upto 23 expresses 72.25301371878179 % variance\n",
      "Eigenvectors upto 24 expresses 72.70715322014472 % variance\n",
      "Eigenvectors upto 25 expresses 73.15049893439331 % variance\n",
      "Eigenvectors upto 26 expresses 73.57926346066203 % variance\n",
      "Eigenvectors upto 27 expresses 73.99083874980502 % variance\n",
      "Eigenvectors upto 28 expresses 74.36499478480829 % variance\n",
      "Eigenvectors upto 29 expresses 74.73228664199709 % variance\n",
      "Eigenvectors upto 30 expresses 75.09208305657283 % variance\n",
      "Eigenvectors upto 31 expresses 75.43579532969467 % variance\n",
      "Eigenvectors upto 32 expresses 75.76003634117212 % variance\n",
      "Eigenvectors upto 33 expresses 76.07692505971895 % variance\n",
      "Eigenvectors upto 34 expresses 76.39010008190411 % variance\n",
      "Eigenvectors upto 35 expresses 76.69951785965621 % variance\n",
      "Eigenvectors upto 36 expresses 76.99973490374107 % variance\n",
      "Eigenvectors upto 37 expresses 77.29743741102459 % variance\n",
      "Eigenvectors upto 38 expresses 77.57746353284107 % variance\n",
      "Eigenvectors upto 39 expresses 77.85557690851205 % variance\n",
      "Eigenvectors upto 40 expresses 78.11847151577813 % variance\n",
      "Eigenvectors upto 41 expresses 78.37460096541024 % variance\n",
      "Eigenvectors upto 42 expresses 78.62937568007642 % variance\n",
      "Eigenvectors upto 43 expresses 78.87777483330173 % variance\n",
      "Eigenvectors upto 44 expresses 79.11572208615505 % variance\n",
      "Eigenvectors upto 45 expresses 79.3499990094153 % variance\n",
      "Eigenvectors upto 46 expresses 79.57892203584005 % variance\n",
      "Eigenvectors upto 47 expresses 79.80519748448569 % variance\n",
      "Eigenvectors upto 48 expresses 80.0268823266073 % variance\n",
      "Eigenvectors upto 49 expresses 80.24170591534309 % variance\n",
      "Eigenvectors upto 50 expresses 80.45463843255446 % variance\n",
      "Eigenvectors upto 51 expresses 80.6610856111113 % variance\n",
      "Eigenvectors upto 52 expresses 80.86249284501675 % variance\n",
      "Eigenvectors upto 53 expresses 81.06125443584013 % variance\n",
      "Eigenvectors upto 54 expresses 81.25156510409523 % variance\n",
      "Eigenvectors upto 55 expresses 81.43949969033734 % variance\n",
      "Eigenvectors upto 56 expresses 81.62303601884608 % variance\n",
      "Eigenvectors upto 57 expresses 81.8034662726157 % variance\n",
      "Eigenvectors upto 58 expresses 81.98259551293376 % variance\n",
      "Eigenvectors upto 59 expresses 82.1580714647179 % variance\n",
      "Eigenvectors upto 60 expresses 82.32970856433319 % variance\n",
      "Eigenvectors upto 61 expresses 82.49512738608584 % variance\n",
      "Eigenvectors upto 62 expresses 82.6589872142741 % variance\n",
      "Eigenvectors upto 63 expresses 82.81889049024566 % variance\n",
      "Eigenvectors upto 64 expresses 82.98033615482284 % variance\n",
      "Eigenvectors upto 65 expresses 83.13693566676619 % variance\n",
      "Eigenvectors upto 66 expresses 83.29189512616546 % variance\n",
      "Eigenvectors upto 67 expresses 83.44392797509393 % variance\n",
      "Eigenvectors upto 68 expresses 83.59467704525078 % variance\n",
      "Eigenvectors upto 69 expresses 83.74185037281359 % variance\n",
      "Eigenvectors upto 70 expresses 83.8887184276969 % variance\n",
      "Eigenvectors upto 71 expresses 84.0318538504642 % variance\n",
      "Eigenvectors upto 72 expresses 84.17265034243758 % variance\n",
      "Eigenvectors upto 73 expresses 84.3117140133992 % variance\n",
      "Eigenvectors upto 74 expresses 84.44748817536444 % variance\n",
      "Eigenvectors upto 75 expresses 84.58199195122027 % variance\n",
      "Eigenvectors upto 76 expresses 84.71630025803306 % variance\n",
      "Eigenvectors upto 77 expresses 84.84685575346771 % variance\n",
      "Eigenvectors upto 78 expresses 84.97628021705383 % variance\n",
      "Eigenvectors upto 79 expresses 85.10461069554138 % variance\n",
      "Eigenvectors upto 80 expresses 85.23038207999024 % variance\n",
      "Eigenvectors upto 81 expresses 85.35423941474222 % variance\n",
      "Eigenvectors upto 82 expresses 85.47734596146168 % variance\n",
      "Eigenvectors upto 83 expresses 85.59786769401197 % variance\n",
      "Eigenvectors upto 84 expresses 85.71761267348487 % variance\n",
      "Eigenvectors upto 85 expresses 85.83427598795195 % variance\n",
      "Eigenvectors upto 86 expresses 85.94667144011595 % variance\n",
      "Eigenvectors upto 87 expresses 86.0580472906712 % variance\n",
      "Eigenvectors upto 88 expresses 86.16806024394394 % variance\n",
      "Eigenvectors upto 89 expresses 86.27677116763563 % variance\n",
      "Eigenvectors upto 90 expresses 86.3848608065302 % variance\n",
      "Eigenvectors upto 91 expresses 86.49115166923646 % variance\n",
      "Eigenvectors upto 92 expresses 86.59561189419863 % variance\n",
      "Eigenvectors upto 93 expresses 86.69849364741236 % variance\n",
      "Eigenvectors upto 94 expresses 86.80027090816799 % variance\n",
      "Eigenvectors upto 95 expresses 86.9016129698582 % variance\n",
      "Eigenvectors upto 96 expresses 87.0011363063667 % variance\n",
      "Eigenvectors upto 97 expresses 87.09951895063666 % variance\n",
      "Eigenvectors upto 98 expresses 87.19660211966993 % variance\n",
      "Eigenvectors upto 99 expresses 87.29277359021044 % variance\n",
      "Eigenvectors upto 100 expresses 87.38881789642265 % variance\n",
      "Eigenvectors upto 101 expresses 87.48236516319253 % variance\n",
      "Eigenvectors upto 102 expresses 87.57533020551651 % variance\n",
      "Eigenvectors upto 103 expresses 87.66759757589 % variance\n",
      "Eigenvectors upto 104 expresses 87.7576680315948 % variance\n",
      "Eigenvectors upto 105 expresses 87.8470818252185 % variance\n",
      "Eigenvectors upto 106 expresses 87.93534162703313 % variance\n",
      "Eigenvectors upto 107 expresses 88.02282412880488 % variance\n",
      "Eigenvectors upto 108 expresses 88.10922369152387 % variance\n",
      "Eigenvectors upto 109 expresses 88.19461142518114 % variance\n",
      "Eigenvectors upto 110 expresses 88.2785662119186 % variance\n",
      "Eigenvectors upto 111 expresses 88.36321903538746 % variance\n",
      "Eigenvectors upto 112 expresses 88.44633777136919 % variance\n",
      "Eigenvectors upto 113 expresses 88.52904273581863 % variance\n",
      "Eigenvectors upto 114 expresses 88.61070291301975 % variance\n",
      "Eigenvectors upto 115 expresses 88.6912297573291 % variance\n",
      "Eigenvectors upto 116 expresses 88.7709411910268 % variance\n",
      "Eigenvectors upto 117 expresses 88.84876593579173 % variance\n",
      "Eigenvectors upto 118 expresses 88.92532319841628 % variance\n",
      "Eigenvectors upto 119 expresses 89.00149325593573 % variance\n",
      "Eigenvectors upto 120 expresses 89.07600350317712 % variance\n",
      "Eigenvectors upto 121 expresses 89.15019232784974 % variance\n",
      "Eigenvectors upto 122 expresses 89.22300947532428 % variance\n",
      "Eigenvectors upto 123 expresses 89.29436901348294 % variance\n",
      "Eigenvectors upto 124 expresses 89.36543236585455 % variance\n",
      "Eigenvectors upto 125 expresses 89.43606707849128 % variance\n",
      "Eigenvectors upto 126 expresses 89.5061289651259 % variance\n",
      "Eigenvectors upto 127 expresses 89.57571706854152 % variance\n",
      "Eigenvectors upto 128 expresses 89.64460990942084 % variance\n",
      "Eigenvectors upto 129 expresses 89.71248561995405 % variance\n",
      "Eigenvectors upto 130 expresses 89.78012422512874 % variance\n",
      "Eigenvectors upto 131 expresses 89.8470589976247 % variance\n",
      "Eigenvectors upto 132 expresses 89.91354636829504 % variance\n",
      "Eigenvectors upto 133 expresses 89.97960533928814 % variance\n",
      "Eigenvectors upto 134 expresses 90.04416723922948 % variance\n",
      "Eigenvectors upto 135 expresses 90.10992195556845 % variance\n",
      "Eigenvectors upto 136 expresses 90.17494416119077 % variance\n",
      "Eigenvectors upto 137 expresses 90.23816182107615 % variance\n",
      "Eigenvectors upto 138 expresses 90.3005241153914 % variance\n",
      "Eigenvectors upto 139 expresses 90.36433258315289 % variance\n",
      "Eigenvectors upto 140 expresses 90.42553849008543 % variance\n",
      "Eigenvectors upto 141 expresses 90.48727349239373 % variance\n",
      "Eigenvectors upto 142 expresses 90.54811523499869 % variance\n",
      "Eigenvectors upto 143 expresses 90.60680936331632 % variance\n",
      "Eigenvectors upto 144 expresses 90.66681476876715 % variance\n",
      "Eigenvectors upto 145 expresses 90.72709045820136 % variance\n",
      "Eigenvectors upto 146 expresses 90.78618123520002 % variance\n",
      "Eigenvectors upto 147 expresses 90.8453483288993 % variance\n",
      "Eigenvectors upto 148 expresses 90.9027717746103 % variance\n",
      "Eigenvectors upto 149 expresses 90.95987544310047 % variance\n",
      "Eigenvectors upto 150 expresses 91.01657450205357 % variance\n",
      "Eigenvectors upto 151 expresses 91.07264976943071 % variance\n",
      "Eigenvectors upto 152 expresses 91.12819077894744 % variance\n",
      "Eigenvectors upto 153 expresses 91.18385287310812 % variance\n",
      "Eigenvectors upto 154 expresses 91.23897361954053 % variance\n",
      "Eigenvectors upto 155 expresses 91.29344756876226 % variance\n",
      "Eigenvectors upto 156 expresses 91.34755175936381 % variance\n",
      "Eigenvectors upto 157 expresses 91.40121121939417 % variance\n",
      "Eigenvectors upto 158 expresses 91.45426306300875 % variance\n",
      "Eigenvectors upto 159 expresses 91.50670923095086 % variance\n",
      "Eigenvectors upto 160 expresses 91.55859360579741 % variance\n",
      "Eigenvectors upto 161 expresses 91.61016101616127 % variance\n",
      "Eigenvectors upto 162 expresses 91.66088512142167 % variance\n",
      "Eigenvectors upto 163 expresses 91.7111775677084 % variance\n",
      "Eigenvectors upto 164 expresses 91.76120618222137 % variance\n",
      "Eigenvectors upto 165 expresses 91.81103703193627 % variance\n",
      "Eigenvectors upto 166 expresses 91.86034558114098 % variance\n",
      "Eigenvectors upto 167 expresses 91.90927071424555 % variance\n",
      "Eigenvectors upto 168 expresses 91.95793128301712 % variance\n",
      "Eigenvectors upto 169 expresses 92.00612988140726 % variance\n",
      "Eigenvectors upto 170 expresses 92.05402852364743 % variance\n",
      "Eigenvectors upto 171 expresses 92.10178839213447 % variance\n",
      "Eigenvectors upto 172 expresses 92.14909484733057 % variance\n",
      "Eigenvectors upto 173 expresses 92.19621186223422 % variance\n",
      "Eigenvectors upto 174 expresses 92.24261639133721 % variance\n",
      "Eigenvectors upto 175 expresses 92.28941226212899 % variance\n",
      "Eigenvectors upto 176 expresses 92.33559587383428 % variance\n",
      "Eigenvectors upto 177 expresses 92.38141930664115 % variance\n",
      "Eigenvectors upto 178 expresses 92.42650775787635 % variance\n",
      "Eigenvectors upto 179 expresses 92.47171910493459 % variance\n",
      "Eigenvectors upto 180 expresses 92.51641709989421 % variance\n",
      "Eigenvectors upto 181 expresses 92.56078620151345 % variance\n",
      "Eigenvectors upto 182 expresses 92.60385229738012 % variance\n",
      "Eigenvectors upto 183 expresses 92.64769112002958 % variance\n",
      "Eigenvectors upto 184 expresses 92.69128418105628 % variance\n",
      "Eigenvectors upto 185 expresses 92.73380308892403 % variance\n",
      "Eigenvectors upto 186 expresses 92.77591722057853 % variance\n",
      "Eigenvectors upto 187 expresses 92.81790880206295 % variance\n",
      "Eigenvectors upto 188 expresses 92.85960430842414 % variance\n",
      "Eigenvectors upto 189 expresses 92.90093950818093 % variance\n",
      "Eigenvectors upto 190 expresses 92.942119437707 % variance\n",
      "Eigenvectors upto 191 expresses 92.9830927853596 % variance\n",
      "Eigenvectors upto 192 expresses 93.02368940424195 % variance\n",
      "Eigenvectors upto 193 expresses 93.06387924339074 % variance\n",
      "Eigenvectors upto 194 expresses 93.10372885357258 % variance\n",
      "Eigenvectors upto 195 expresses 93.14317082722657 % variance\n",
      "Eigenvectors upto 196 expresses 93.1828550664471 % variance\n",
      "Eigenvectors upto 197 expresses 93.22186910944352 % variance\n",
      "Eigenvectors upto 198 expresses 93.26078276733307 % variance\n",
      "Eigenvectors upto 199 expresses 93.29942065942816 % variance\n",
      "Eigenvectors upto 200 expresses 93.33800668132712 % variance\n"
     ]
    }
   ],
   "source": [
    "for i in range(200):\n",
    "    exp_var = np.sum(eig_values[:i+1])*100 / np.sum(eig_values)\n",
    "    print(f'Eigenvectors upto {i+1} expresses {exp_var} % variance')"
   ]
  },
  {
   "cell_type": "markdown",
   "metadata": {
    "id": "ILoLIAYrWTSq"
   },
   "source": [
    "# Visualizations\n",
    "## Eigenvector Visualization\n",
    "\n",
    "Project the scaled input into the first and second eigen vector and see the result."
   ]
  },
  {
   "cell_type": "code",
   "execution_count": 22,
   "metadata": {},
   "outputs": [],
   "source": [
    "#eig_vectors[0].shape\n",
    "#projected_1 = (eig_vectors[0] @ eig_vectors[0].T)/(eig_vectors[0].T @ eig_vectors[0])\n",
    "#projected_1.shape\n",
    "\n",
    "\n",
    "\n"
   ]
  },
  {
   "cell_type": "code",
   "execution_count": 23,
   "metadata": {},
   "outputs": [],
   "source": [
    "#projected_1.shape"
   ]
  },
  {
   "cell_type": "code",
   "execution_count": 24,
   "metadata": {
    "colab": {
     "base_uri": "https://localhost:8080/",
     "height": 198
    },
    "id": "-89VNNOIWShA",
    "outputId": "afe9ffde-036a-4780-cf05-f4af4243c019"
   },
   "outputs": [
    {
     "data": {
      "text/html": [
       "<div>\n",
       "<style scoped>\n",
       "    .dataframe tbody tr th:only-of-type {\n",
       "        vertical-align: middle;\n",
       "    }\n",
       "\n",
       "    .dataframe tbody tr th {\n",
       "        vertical-align: top;\n",
       "    }\n",
       "\n",
       "    .dataframe thead th {\n",
       "        text-align: right;\n",
       "    }\n",
       "</style>\n",
       "<table border=\"1\" class=\"dataframe\">\n",
       "  <thead>\n",
       "    <tr style=\"text-align: right;\">\n",
       "      <th></th>\n",
       "      <th>PC1</th>\n",
       "      <th>PC2</th>\n",
       "      <th>Y</th>\n",
       "    </tr>\n",
       "  </thead>\n",
       "  <tbody>\n",
       "    <tr>\n",
       "      <th>0</th>\n",
       "      <td>0.626881</td>\n",
       "      <td>-0.448661</td>\n",
       "      <td>9</td>\n",
       "    </tr>\n",
       "    <tr>\n",
       "      <th>1</th>\n",
       "      <td>-0.671657</td>\n",
       "      <td>0.285860</td>\n",
       "      <td>0</td>\n",
       "    </tr>\n",
       "    <tr>\n",
       "      <th>2</th>\n",
       "      <td>0.556887</td>\n",
       "      <td>-1.019063</td>\n",
       "      <td>5</td>\n",
       "    </tr>\n",
       "    <tr>\n",
       "      <th>3</th>\n",
       "      <td>0.560789</td>\n",
       "      <td>-0.490942</td>\n",
       "      <td>8</td>\n",
       "    </tr>\n",
       "    <tr>\n",
       "      <th>4</th>\n",
       "      <td>-2.704503</td>\n",
       "      <td>0.506871</td>\n",
       "      <td>0</td>\n",
       "    </tr>\n",
       "  </tbody>\n",
       "</table>\n",
       "</div>"
      ],
      "text/plain": [
       "        PC1       PC2  Y\n",
       "0  0.626881 -0.448661  9\n",
       "1 -0.671657  0.285860  0\n",
       "2  0.556887 -1.019063  5\n",
       "3  0.560789 -0.490942  8\n",
       "4 -2.704503  0.506871  0"
      ]
     },
     "execution_count": 24,
     "metadata": {},
     "output_type": "execute_result"
    }
   ],
   "source": [
    "# Code Here\n",
    "projected_1 = np.dot(X_scaled,eig_vectors[0]) / np.linalg.norm(eig_vectors[0])**2\n",
    "projected_2 = np.dot(X_scaled,eig_vectors[1]) / np.linalg.norm(eig_vectors[1])**2\n",
    "\n",
    "##\n",
    "res2d = pd.DataFrame(projected_1, columns=['PC1'])\n",
    "res2d['PC2'] = projected_2\n",
    "res2d['Y'] = labels\n",
    "res2d.head()"
   ]
  },
  {
   "cell_type": "markdown",
   "metadata": {
    "id": "9J6YZeXEcLRc"
   },
   "source": [
    "## 2D Visualization"
   ]
  },
  {
   "cell_type": "code",
   "execution_count": 25,
   "metadata": {
    "colab": {
     "base_uri": "https://localhost:8080/",
     "height": 374
    },
    "id": "s1_k1eFoWgkI",
    "outputId": "55fa5cec-e7b9-45d3-bd97-443978f90776"
   },
   "outputs": [
    {
     "data": {
      "image/png": "[encoded data removed]",
      "text/plain": [
       "<Figure size 720x432 with 1 Axes>"
      ]
     },
     "metadata": {
      "needs_background": "light"
     },
     "output_type": "display_data"
    }
   ],
   "source": [
    "plt.figure(figsize=(10,6))\n",
    "for label in selected_labels:\n",
    "    label_name = classes[label]\n",
    "    coords = res2d[res2d['Y']==label]\n",
    "    x = coords['PC1'].values\n",
    "    y = coords['PC2'].values\n",
    "    plt.scatter(x, y, label=label_name)\n",
    "\n",
    "plt.legend()\n",
    "plt.show()"
   ]
  },
  {
   "cell_type": "markdown",
   "metadata": {
    "id": "ELdWci2YcOIU"
   },
   "source": [
    "## 3D Visualization\n",
    "\n",
    "Besides the above projections, project the scaled input on the third eigen vector to see the 3D visualization."
   ]
  },
  {
   "cell_type": "code",
   "execution_count": 27,
   "metadata": {
    "colab": {
     "base_uri": "https://localhost:8080/",
     "height": 198
    },
    "id": "U6tP1iosan4z",
    "outputId": "f877bbd7-6c08-48d3-be61-2d053609ed47"
   },
   "outputs": [],
   "source": [
    "# Code Here\n",
    "projected_3 = np.dot(X_scaled,eig_vectors[2]) / np.linalg.norm(eig_vectors[2])**2\n",
    "\n",
    "##\n",
    "res3d = pd.DataFrame(projected_1, columns=['PC1'])\n",
    "res3d['PC2'] = projected_2\n",
    "res3d['PC3'] = projected_3\n",
    "res3d['Y'] = labels\n",
    "res3d = res3d.head(500)"
   ]
  },
  {
   "cell_type": "code",
   "execution_count": 28,
   "metadata": {
    "colab": {
     "base_uri": "https://localhost:8080/",
     "height": 266
    },
    "id": "v7DzWsUTc-MX",
    "outputId": "2da957e9-5b69-45d3-dc9b-b34153baa729",
    "scrolled": true
   },
   "outputs": [
    {
     "data": {
      "text/plain": [
       "<matplotlib.legend.Legend at 0x114b0dbfc40>"
      ]
     },
     "execution_count": 28,
     "metadata": {},
     "output_type": "execute_result"
    },
    {
     "data": {
      "image/png": "[encoded data removed]",
      "text/plain": [
       "<Figure size 360x360 with 1 Axes>"
      ]
     },
     "metadata": {
      "needs_background": "light"
     },
     "output_type": "display_data"
    }
   ],
   "source": [
    "fig = plt.figure(figsize=(5,5))\n",
    "ax = fig.add_subplot(projection='3d')\n",
    "\n",
    "for label in selected_labels:\n",
    "    label_name = classes[label]\n",
    "    coords = res3d[res3d['Y']==label]\n",
    "    x = coords['PC1'].values\n",
    "    y = coords['PC2'].values\n",
    "    z = coords['PC3'].values\n",
    "    ax.scatter3D(x, y, z, label=label_name)\n",
    "    \n",
    "ax.set_xlabel('Principal Component 1')\n",
    "ax.set_ylabel('Principal Component 2')\n",
    "ax.set_zlabel('Principal Component 3')\n",
    "ax.legend()"
   ]
  },
  {
   "cell_type": "markdown",
   "metadata": {
    "id": "LEyMxcO1dLGa"
   },
   "source": [
    "# Reconstruction from Principal Component\n",
    "## Reduction/Compression Phase:\n",
    "<img src=\"https://i.stack.imgur.com/CKI4U.png\" alt=\"drawing\" style=\"width:200px;\"/>\n",
    "\n",
    "Above is the general form of vector on vector projection formula, in order to reconstruct our image we need to find the projection of our X_scaled ($a$) on each of the reduced_eigen_space vectors ($v$) (Note that our calculated eigen vectors are unit vectors, therefore, the denominator equals to one).\n",
    "\n",
    "Determine the number of eigen vectors needed to project image on, such that images can still be recognizable. Note that this number should NOT be accurate and something approximate is enough (don't message TAs about the accuracy :)) )."
   ]
  },
  {
   "cell_type": "code",
   "execution_count": 29,
   "metadata": {},
   "outputs": [],
   "source": [
    "#eig_vectors.shape\n",
    "#eig_values.shape\n",
    "\n",
    "#eig_values[:,1]"
   ]
  },
  {
   "cell_type": "code",
   "execution_count": 30,
   "metadata": {},
   "outputs": [],
   "source": [
    "#np.sum(eig_values)\n",
    "#number_of_eigen_vectors\n",
    "#sum/np.sum(eig_values)"
   ]
  },
  {
   "cell_type": "code",
   "execution_count": 31,
   "metadata": {},
   "outputs": [
    {
     "name": "stdout",
     "output_type": "stream",
     "text": [
      "199\n"
     ]
    }
   ],
   "source": [
    "# Code Here\n",
    "number_of_eigen_vectors =0\n",
    "i=199\n",
    "while(i>=0):\n",
    "    exp_var2 = np.sum(eig_values[:199-i+1])*100 / np.sum(eig_values)\n",
    "    if exp_var2 > 0.5:\n",
    "        number_of_eigen_vectors=199-i+1\n",
    "        print(i)\n",
    "        break\n",
    "    i-=1\n",
    "\n",
    "##\n",
    "reduced_eigen_space = eig_vectors[:, :number_of_eigen_vectors]"
   ]
  },
  {
   "cell_type": "code",
   "execution_count": 32,
   "metadata": {},
   "outputs": [
    {
     "name": "stdout",
     "output_type": "stream",
     "text": [
      "Shape of X_scaled: (30000, 784)\n",
      "Shape of reduced_eigen_space: (784, 1)\n",
      "Shape of X_compressed: (30000, 1)\n"
     ]
    }
   ],
   "source": [
    "# Code Here\n",
    "X_compressed = np.dot(X_scaled,reduced_eigen_space)\n",
    "\n",
    "##\n",
    "\n",
    "assert X_compressed.shape == (X_scaled.shape[0], number_of_eigen_vectors), \"shape of X_compresed is wrong\"\n",
    "\n",
    "print(f'Shape of X_scaled: {X_scaled.shape}')\n",
    "print(f'Shape of reduced_eigen_space: {reduced_eigen_space.shape}')\n",
    "print(f'Shape of X_compressed: {X_compressed.shape}')"
   ]
  },
  {
   "cell_type": "markdown",
   "metadata": {},
   "source": [
    "## Reconstrunction Phase:"
   ]
  },
  {
   "cell_type": "code",
   "execution_count": 39,
   "metadata": {},
   "outputs": [
    {
     "data": {
      "text/plain": [
       "(784,)"
      ]
     },
     "execution_count": 39,
     "metadata": {},
     "output_type": "execute_result"
    }
   ],
   "source": [
    "#X_compressed.shape\n",
    "#reduced_eigen_space.shape\n",
    "#std_.shape"
   ]
  },
  {
   "cell_type": "code",
   "execution_count": null,
   "metadata": {},
   "outputs": [],
   "source": [
    "data_reconstructed.shape"
   ]
  },
  {
   "cell_type": "code",
   "execution_count": 42,
   "metadata": {},
   "outputs": [
    {
     "name": "stdout",
     "output_type": "stream",
     "text": [
      "Shape of X_compressed: (30000, 1)\n",
      "Shape of reduced_eigen_space: (784, 1)\n",
      "Shape of X_reconstructed: (30000, 784)\n"
     ]
    }
   ],
   "source": [
    "# Code Here\n",
    "X_reconstructed = np.dot(X_compressed , reduced_eigen_space.T)                # Reconstructed data\n",
    "for i in range(0,3000):\n",
    "    data_reconstructed[i] =  X_reconstructed[i] * std_.reshape(-1) + mean_.reshape(-1)             # De-standardized data\n",
    "images=images.reshape(30000,28,28)\n",
    "##\n",
    "\n",
    "reconstructed_images = np.reshape(data_reconstructed, (-1, 28, 28))\n",
    "\n",
    "print(f'Shape of X_compressed: {X_compressed.shape}')\n",
    "print(f'Shape of reduced_eigen_space: {reduced_eigen_space.shape}')\n",
    "print(f'Shape of X_reconstructed: {X_reconstructed.shape}')"
   ]
  },
  {
   "cell_type": "code",
   "execution_count": 43,
   "metadata": {},
   "outputs": [
    {
     "data": {
      "image/png": "[encoded data removed]",
      "text/plain": [
       "<Figure size 432x288 with 2 Axes>"
      ]
     },
     "metadata": {
      "needs_background": "light"
     },
     "output_type": "display_data"
    }
   ],
   "source": [
    "rec_index = 0\n",
    "\n",
    "f = plt.figure()\n",
    "ax1 = f.add_subplot(1,2,1)\n",
    "plt.imshow(images[rec_index].squeeze(), cmap = 'gray')\n",
    "ax1.axis(False)\n",
    "ax2 = f.add_subplot(1,2,2)\n",
    "ax2.axis(False)\n",
    "plt.imshow(reconstructed_images[rec_index].squeeze(), cmap = 'gray')\n",
    "ax1.title.set_text('Original')\n",
    "ax2.title.set_text('Reconstructed after Compression')\n",
    "plt.show(block=True)\n",
    "rec_index +=1\n"
   ]
  },
  {
   "cell_type": "code",
   "execution_count": null,
   "metadata": {},
   "outputs": [],
   "source": []
  }
 ],
 "metadata": {
  "colab": {
   "name": "PCA with MNIST Dataset.ipynb",
   "provenance": [],
   "toc_visible": true
  },
  "kernelspec": {
   "display_name": "Python 3 (ipykernel)",
   "language": "python",
   "name": "python3"
  },
  "language_info": {
   "codemirror_mode": {
    "name": "ipython",
    "version": 3
   },
   "file_extension": ".py",
   "mimetype": "text/x-python",
   "name": "python",
   "nbconvert_exporter": "python",
   "pygments_lexer": "ipython3",
   "version": "3.9.12"
  },
  "vscode": {
   "interpreter": {
    "hash": "8848db57d6de7be7efa3af564b180776d4c97d4852b86ca969fd58f9e4add6e3"
   }
  }
 },
 "nbformat": 4,
 "nbformat_minor": 1
}
